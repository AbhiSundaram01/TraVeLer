{
 "cells": [
  {
   "cell_type": "markdown",
   "id": "35ca3099",
   "metadata": {},
   "source": [
    "Need to generate code that takes an original chain, and a new chain. Need to oversamlple the chain so that it matches the dimensions of the original chain, to allow for better comparison "
   ]
  },
  {
   "cell_type": "code",
   "execution_count": null,
   "id": "8cf34eb2",
   "metadata": {},
   "outputs": [],
   "source": [
    "\n",
    "import numpy as np\n",
    "\n",
    "def match_chain_lengths(chain_coords, chain):\n",
    "\n",
    "    n = chain_coords.shape[0]\n",
    "    m = chain.shape[0]\n",
    "\n",
    "    q = n // m #How many subdivisions are needed of each pair in chain\n",
    "    r = n % m # how many extra subdivisions are needed\n",
    "\n",
    "    coords = []\n",
    "\n",
    "    for i in range(m-r):\n",
    "        start = chain[i][1]\n",
    "        end = chain[i][2]\n",
    "        n_subdiv = q + (1 if i < r else 0)\n",
    "        steps = np.linspace(0, 1, n_subdiv + 1)\n",
    "        \n",
    "        for s in range(n_subdiv):\n",
    "            p1 = start + (end - start) * steps[s]\n",
    "            p2 = start + (end - start) * steps[s + 1]\n",
    "            coords.append([p1, p2])\n",
    "\n",
    "    coords = np.array(coords)\n",
    "    return torch.tensor(coords, dtype=torch.float32)\n",
    "\n",
    "    \n"
   ]
  }
 ],
 "metadata": {
  "kernelspec": {
   "display_name": "traveler",
   "language": "python",
   "name": "python3"
  },
  "language_info": {
   "name": "python",
   "version": "3.10.15"
  }
 },
 "nbformat": 4,
 "nbformat_minor": 5
}
